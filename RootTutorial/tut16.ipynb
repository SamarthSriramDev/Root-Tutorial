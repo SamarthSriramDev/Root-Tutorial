{
 "cells": [
  {
   "cell_type": "code",
   "execution_count": 1,
   "metadata": {},
   "outputs": [
    {
     "name": "stdout",
     "output_type": "stream",
     "text": [
      "\u001b[?1034h"
     ]
    },
    {
     "data": {
      "image/png": "[encoded data removed]",
      "text/plain": [
       "<IPython.core.display.Image object>"
      ]
     },
     "metadata": {},
     "output_type": "display_data"
    }
   ],
   "source": [
    "TFile *input = new TFile(\"data4.root\", \"read\");\n",
    "\n",
    "TCanvas *c1 = new TCanvas();\n",
    "\n",
    "TTree *tree = (TTree*)input->Get(\"tree\"); //we need to cast here to take care of inheritance\n",
    "\n",
    "int entries = tree->GetEntries(); //this gets us the total number of entries in the tree\n",
    "\n",
    "double x, y;\n",
    "\n",
    "tree->SetBranchAddress(\"x\", &x); //this is to point the x to the branch\n",
    "tree->SetBranchAddress(\"y\", &y);\n",
    "\n",
    "TGraph *gr = new TGraph();\n",
    "\n",
    "for(int i = 0; i < entries; i++){\n",
    "    tree->GetEntry(i);\n",
    "    gr->SetPoint(gr->GetN(),x,y);\n",
    "}\n",
    "\n",
    "gr->GetXaxis()->SetRangeUser(0,5);\n",
    "gr->GetYaxis()->SetRangeUser(0,20);\n",
    "\n",
    "gr->Draw(\"AC*\");\n",
    "\n",
    "c1->Draw();\n",
    "\n",
    "//input->Close();"
   ]
  },
  {
   "cell_type": "code",
   "execution_count": null,
   "metadata": {},
   "outputs": [],
   "source": []
  },
  {
   "cell_type": "code",
   "execution_count": null,
   "metadata": {},
   "outputs": [],
   "source": []
  }
 ],
 "metadata": {
  "kernelspec": {
   "display_name": "ROOT C++",
   "language": "c++",
   "name": "root"
  },
  "language_info": {
   "codemirror_mode": "text/x-c++src",
   "file_extension": ".C",
   "mimetype": " text/x-c++src",
   "name": "c++"
  }
 },
 "nbformat": 4,
 "nbformat_minor": 2
}
