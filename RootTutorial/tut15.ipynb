{
 "cells": [
  {
   "cell_type": "code",
   "execution_count": 1,
   "metadata": {},
   "outputs": [
    {
     "name": "stdout",
     "output_type": "stream",
     "text": [
      "\u001b[?1034h"
     ]
    }
   ],
   "source": [
    "fstream file;\n",
    "\n",
    "file.open(\"data4.txt\", ios::in);\n",
    "\n",
    "double x, y;\n",
    "\n",
    "TFile *output = new TFile(\"data4.root\", \"RECREATE\");\n",
    "\n",
    "TTree *tree = new TTree(\"tree\", \"tree\");\n",
    "\n",
    "tree->Branch(\"x\", &x, \"x/D\"); //(Name, reference to the vartiable, data type of the variable)\n",
    "tree->Branch(\"y\", &y, \"y/D\");\n",
    "\n",
    "\n",
    "while(1){\n",
    "    \n",
    "    file >> x >> y;\n",
    "    \n",
    "    tree->Fill();\n",
    "    \n",
    "    if(file.eof()){\n",
    "        break;\n",
    "    }\n",
    "}\n",
    "\n",
    "output->Write();\n",
    "\n",
    "output->Close();\n",
    "\n",
    "file.close();"
   ]
  }
 ],
 "metadata": {
  "kernelspec": {
   "display_name": "ROOT C++",
   "language": "c++",
   "name": "root"
  },
  "language_info": {
   "codemirror_mode": "text/x-c++src",
   "file_extension": ".C",
   "mimetype": " text/x-c++src",
   "name": "c++"
  }
 },
 "nbformat": 4,
 "nbformat_minor": 2
}
