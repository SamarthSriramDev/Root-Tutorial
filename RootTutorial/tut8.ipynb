{
 "cells": [
  {
   "cell_type": "code",
   "execution_count": 1,
   "metadata": {},
   "outputs": [
    {
     "name": "stdout",
     "output_type": "stream",
     "text": [
      "\u001b[?1034h"
     ]
    },
    {
     "data": {
      "image/png": "[encoded data removed]",
      "text/plain": [
       "<IPython.core.display.Image object>"
      ]
     },
     "metadata": {},
     "output_type": "display_data"
    },
    {
     "name": "stdout",
     "output_type": "stream",
     "text": [
      " FCN=21.1846 FROM MIGRAD    STATUS=CONVERGED      72 CALLS          73 TOTAL\n",
      "                     EDM=3.47767e-07    STRATEGY= 1  ERROR MATRIX UNCERTAINTY   2.6 per cent\n",
      "  EXT PARAMETER                                   STEP         FIRST   \n",
      "  NO.   NAME      VALUE            ERROR          SIZE      DERIVATIVE \n",
      "   1  Constant     3.93134e+01   2.11799e+00  -1.27078e-03   8.92048e-05\n",
      "   2  Mean         5.03632e+00   4.65664e-02   5.62497e-05  -2.61390e-02\n",
      "   3  Sigma        1.01657e+00   1.35864e-01   1.26650e-04   1.24206e-02\n",
      "4.95424\n"
     ]
    }
   ],
   "source": [
    "TH1F *hist = new TH1F(\"hist\",\"Histogram\",100,0,10);\n",
    "\n",
    "TRandom2 *randomGen = new TRandom2(3); //This is to generate a random number\n",
    "\n",
    "fstream file;\n",
    "\n",
    "file.open(\"data.txt\", ios::out); //ios::out is used to read data out to a file\n",
    "\n",
    "for(int i = 0; i < 1000; i++){\n",
    "    double r = randomGen->Gaus(5,1); // Gaus(mean, standard deviation)\n",
    "    file << r << endl;\n",
    "}\n",
    "\n",
    "file.close();\n",
    "\n",
    "//We use fstream to read from a file\n",
    "\n",
    "file.open(\"data.txt\",ios::in); //the name of the file and ios::in refers to reading\n",
    "\n",
    "double value;\n",
    "\n",
    "while(1){\n",
    "    file >> value; //these corresspond to the values that we are reading\n",
    "    hist->Fill(value);\n",
    "    if(file.eof()){\n",
    "        break;\n",
    "    }\n",
    "}\n",
    "\n",
    "file.close();\n",
    "\n",
    "hist->GetXaxis()->SetTitle(\"Distribution\");\n",
    "hist->GetYaxis()->SetTitle(\"Entries\");\n",
    "hist->SetMarkerStyle(1);\n",
    "hist->SetLineColor(kBlue);\n",
    "hist->SetLineWidth(2);\n",
    "hist->SetMarkerSize(1);\n",
    "hist->SetStats(0); //This will remove the statistics box on the top right of the canvas\n",
    "//hist->GetXaxis()->SetRangeUser(0,10);\n",
    "\n",
    "TF1 *fit = new TF1(\"fit\", \"gaus\", 4, 6); //This is used to make the fits in the graph (Name, function, start point, end point)\n",
    "\n",
    "TCanvas *c1 = new TCanvas();\n",
    "    \n",
    "\n",
    "hist->Draw();\n",
    "\n",
    "//We can do the following to customize the gaussian fit\n",
    "fit->SetParameter(0,42); //Amplitude of gaussian\n",
    "fit->SetParameter(1,5);//mean\n",
    "fit->SetParameter(2,1);//std deviation\n",
    "\n",
    "\n",
    "hist->Fit(\"fit\", \"R\"); //The \"R\" is used when we have a limited range for the fit\n",
    "\n",
    "//Best place to add the legend to the graph is after the histogram has been drawn\n",
    "TLegend *leg = new TLegend(0.7,0.7,0.9,0.9);//The left bottom of the graph is (0,0) the top right is (1,1). \n",
    "        //(Xlower,Ylower,XUpper,YUpper)\n",
    "leg->AddEntry(hist, \"Measured data\",\"l\");\n",
    "      //(name of the entry, Name, entry onto the legend we can use p for point and f to fill and also combinations)\n",
    "leg->AddEntry(fit,\"Fit\",\"l\");\n",
    "leg->Draw();\n",
    "\n",
    "\n",
    "c1->Draw();\n",
    "\n",
    "double mean = fit->GetParameter(1); //We can also get the parameters\n",
    "double sigma = fit->GetParameter(2);\n",
    "\n",
    "cout<< mean/sigma << endl;\n"
   ]
  }
 ],
 "metadata": {
  "kernelspec": {
   "display_name": "ROOT C++",
   "language": "c++",
   "name": "root"
  },
  "language_info": {
   "codemirror_mode": "text/x-c++src",
   "file_extension": ".C",
   "mimetype": " text/x-c++src",
   "name": "c++"
  }
 },
 "nbformat": 4,
 "nbformat_minor": 2
}
