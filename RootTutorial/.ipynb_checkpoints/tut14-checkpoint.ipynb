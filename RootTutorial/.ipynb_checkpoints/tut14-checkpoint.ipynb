{
 "cells": [
  {
   "cell_type": "code",
   "execution_count": 1,
   "metadata": {},
   "outputs": [
    {
     "name": "stdout",
     "output_type": "stream",
     "text": [
      "\u001b[?1034h"
     ]
    }
   ],
   "source": [
    "TFile *file = new TFile(\"output.root\", \"RECREATE\"); //(Name, what we want to do) RECREATE is usually what we want to use\n",
    "\n",
    "TH1F *hist = new TH1F(\"hist\", \"Histogram\",100,0,100);\n",
    "hist->Fill(10);\n",
    "hist->Fill(90);\n",
    "hist->SetStats(0);\n",
    "\n",
    "file->Write();\n",
    "\n",
    "file->Close();\n"
   ]
  }
 ],
 "metadata": {
  "kernelspec": {
   "display_name": "ROOT C++",
   "language": "c++",
   "name": "root"
  },
  "language_info": {
   "codemirror_mode": "text/x-c++src",
   "file_extension": ".C",
   "mimetype": " text/x-c++src",
   "name": "c++"
  }
 },
 "nbformat": 4,
 "nbformat_minor": 2
}
