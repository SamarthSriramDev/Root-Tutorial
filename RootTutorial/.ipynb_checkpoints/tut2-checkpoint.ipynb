{
 "cells": [
  {
   "cell_type": "code",
   "execution_count": 3,
   "metadata": {},
   "outputs": [
    {
     "name": "stderr",
     "output_type": "stream",
     "text": [
      "\u001b[1minput_line_60:2:9: \u001b[0m\u001b[0;1;31merror: \u001b[0m\u001b[1mredefinition of 'x'\u001b[0m\n",
      " double x[5] = {1,2,3,4,5};\n",
      "\u001b[0;1;32m        ^\n",
      "\u001b[0m\u001b[1minput_line_59:2:9: \u001b[0m\u001b[0;1;30mnote: \u001b[0mprevious definition is here\u001b[0m\n",
      " double x[5] = {1,2,3,4,5};\n",
      "\u001b[0;1;32m        ^\n",
      "\u001b[0m"
     ]
    }
   ],
   "source": [
    "double x[5] = {1,2,3,4,5};\n",
    "double y[5] = {1,4,9,16,25};\n",
    "\n",
    "TGraph *gr = new TGraph(5,x,y);\n",
    "\n",
    "TCanvas *c1 = new TCanvas();\n",
    "gr->Draw(\"A\");\n",
    "c1->Draw();"
   ]
  },
  {
   "cell_type": "code",
   "execution_count": null,
   "metadata": {},
   "outputs": [],
   "source": []
  },
  {
   "cell_type": "code",
   "execution_count": null,
   "metadata": {},
   "outputs": [],
   "source": []
  }
 ],
 "metadata": {
  "kernelspec": {
   "display_name": "ROOT C++",
   "language": "c++",
   "name": "root"
  },
  "language_info": {
   "codemirror_mode": "text/x-c++src",
   "file_extension": ".C",
   "mimetype": " text/x-c++src",
   "name": "c++"
  }
 },
 "nbformat": 4,
 "nbformat_minor": 2
}
