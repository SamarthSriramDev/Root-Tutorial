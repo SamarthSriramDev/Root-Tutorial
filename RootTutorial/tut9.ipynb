y{
 "cells": [
  {
   "cell_type": "code",
   "execution_count": 1,
   "metadata": {},
   "outputs": [
    {
     "name": "stdout",
     "output_type": "stream",
     "text": [
      "\u001b[?1034h FCN=36.8003 FROM MIGRAD    STATUS=CONVERGED      61 CALLS          62 TOTAL\n",
      "                     EDM=1.0108e-08    STRATEGY= 1      ERROR MATRIX ACCURATE \n",
      "  EXT PARAMETER                                   STEP         FIRST   \n",
      "  NO.   NAME      VALUE            ERROR          SIZE      DERIVATIVE \n",
      "   1  Constant     5.06169e+01   2.08049e+00   4.90127e-03   7.80066e-05\n",
      "   2  Mean         5.05862e+00   3.24754e-02   9.74407e-05   1.40496e-03\n",
      "   3  Sigma        9.88815e-01   2.60929e-02   2.06576e-05   1.61981e-02\n"
     ]
    },
    {
     "data": {
      "image/png": "[encoded data removed]",
      "text/plain": [
       "<IPython.core.display.Image object>"
      ]
     },
     "metadata": {},
     "output_type": "display_data"
    },
    {
     "name": "stdout",
     "output_type": "stream",
     "text": [
      "5.11584\n"
     ]
    }
   ],
   "source": [
    "TH1F *hist = new TH1F(\"hist\",\"\",100,0,13); \n",
    "\n",
    "TRandom2 *randomGen = new TRandom2(3); //This is to generate a random number\n",
    "\n",
    "fstream file;\n",
    "\n",
    "file.open(\"data.txt\", ios::out); //ios::out is used to read data out to a file\n",
    "\n",
    "for(int i = 0; i < 1000; i++){\n",
    "    double r = randomGen->Gaus(5,1); // Gaus(mean, standard deviation)\n",
    "    file << r << endl;\n",
    "}\n",
    "\n",
    "file.close();\n",
    "\n",
    "//We use fstream to read from a file\n",
    "\n",
    "file.open(\"data.txt\",ios::in); //the name of the file and ios::in refers to reading\n",
    "\n",
    "double value;\n",
    "\n",
    "while(1){\n",
    "    file >> value; //these corresspond to the values that we are reading\n",
    "    hist->Fill(value);\n",
    "    if(file.eof()){\n",
    "        break;\n",
    "    }\n",
    "}\n",
    "\n",
    "file.close();\n",
    "\n",
    "TCanvas *c1 = new TCanvas();\n",
    "\n",
    "hist->GetXaxis()->SetTitle(\"Distribution\");\n",
    "hist->GetYaxis()->SetTitle(\"Entries\");\n",
    "hist->GetXaxis()->SetTitleSize(0.05); //0.05 is a good number\n",
    "hist->GetYaxis()->SetTitleSize(0.05);\n",
    "hist->GetXaxis()->SetLabelSize(0.05);\n",
    "hist->GetYaxis()->SetLabelSize(0.05);\n",
    "hist->SetFillColor(kGreen - 7); //This will fill the graph, we can use +/- to reduce the intensity\n",
    "c1->SetTickx();//Sets ticks on the x axis\n",
    "c1->SetTicky();\n",
    "c1->SetGridx();\n",
    "c1->SetGridy();\n",
    "hist->SetMarkerStyle(1);\n",
    "//hist->SetLineColor(kBlue);\n",
    "hist->SetLineWidth(1);\n",
    "hist->SetMarkerSize(1);\n",
    "hist->SetStats(0); //This will remove the statistics box on the top right of the canvas\n",
    "//hist->GetXaxis()->SetRangeUser(0,10);\n",
    "\n",
    "TF1 *fit = new TF1(\"fit\", \"gaus\", 2, 8); //This is used to make the fits in the graph (Name, function, start point, end point) \n",
    "\n",
    "hist->Draw();\n",
    "\n",
    "//We can do the following to customize the gaussian fit\n",
    "fit->SetParameter(0,42);//Amplitude of gaussian\n",
    "fit->SetParameter(1,5);//mean\n",
    "fit->SetParameter(2,1);//std deviation\n",
    "fit->SetLineWidth(3);\n",
    "fit->SetLineColor(kRed);\n",
    "//fit->SetLineStyle(2);\n",
    "\n",
    "\n",
    "hist->Fit(\"fit\", \"R\"); //The \"R\" is used when we have a limited range for the fit\n",
    "\n",
    "//Best place to add the legend to the graph is after the histogram has been drawn\n",
    "TLegend *leg = new TLegend(0.55,0.6,0.8,0.8);//The left bottom of the graph is (0,0) the top right is (1,1). \n",
    "        //(Xlower,Ylower,XUpper,YUpper), try to play with these numbers \n",
    "leg->AddEntry(hist, \"Measured data\",\"f\");\n",
    "      //(name of the entry, Name, entry onto the legend we can use p for point and f to fill and also combinations)\n",
    "leg->AddEntry(fit,\"Fit\",\"l\");\n",
    "leg->SetBorderSize(0); //This will remove the border from the legend\n",
    "leg->Draw();\n",
    "\n",
    "\n",
    "c1->Draw();\n",
    "\n",
    "double mean = fit->GetParameter(1); //We can also get the parameters\n",
    "double sigma = fit->GetParameter(2);\n",
    "\n",
    "cout<< mean/sigma << endl;\n"
   ]
  }
 ],
 "metadata": {
  "kernelspec": {
   "display_name": "ROOT C++",
   "language": "c++",
   "name": "root"
  },
  "language_info": {
   "codemirror_mode": "text/x-c++src",
   "file_extension": ".C",
   "mimetype": " text/x-c++src",
   "name": "c++"
  }
 },
 "nbformat": 4,
 "nbformat_minor": 2
}
