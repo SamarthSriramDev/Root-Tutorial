{
 "cells": [
  {
   "cell_type": "code",
   "execution_count": 1,
   "metadata": {},
   "outputs": [
    {
     "name": "stdout",
     "output_type": "stream",
     "text": [
      "\u001b[?1034h"
     ]
    },
    {
     "name": "stderr",
     "output_type": "stream",
     "text": [
      "\u001b[1minput_line_29:11:5: \u001b[0m\u001b[0;1;31merror: \u001b[0m\u001b[1mno member named 'modified' in 'TCanvas'\u001b[0m\n",
      "c1->modified();\n",
      "\u001b[0;1;32m~~  ^\n",
      "\u001b[0m"
     ]
    }
   ],
   "source": [
    "TCanvas *c1 = new TCanvas();\n",
    "\n",
    "TF1 *func = new TF1(\"func\",\"exp(-[1]*x)*[0]*sin(x)\",0,10*TMath::Pi()); //(name,function,start,end) \n",
    "//TMath::Pi is used for using pi\n",
    "func->SetTitle(\"\");\n",
    "func->GetHistogram()->GetXaxis()->SetTitle(\"Time\");\n",
    "func->GetHistogram()->GetYaxis()->SetTitle(\"Displacement\");\n",
    "c1->SetGridx();\n",
    "c1->SetGridy();\n",
    "\n",
    "func->SetParameter(0,1);\n",
    "func->SetParameter(1,0.1);\n",
    "\n",
    "func->Draw();\n",
    "c1->Draw();"
   ]
  }
 ],
 "metadata": {
  "kernelspec": {
   "display_name": "ROOT C++",
   "language": "c++",
   "name": "root"
  },
  "language_info": {
   "codemirror_mode": "text/x-c++src",
   "file_extension": ".C",
   "mimetype": " text/x-c++src",
   "name": "c++"
  }
 },
 "nbformat": 4,
 "nbformat_minor": 2
}
