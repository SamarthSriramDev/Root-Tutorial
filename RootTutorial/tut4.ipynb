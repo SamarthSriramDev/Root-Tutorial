{
 "cells": [
  {
   "cell_type": "code",
   "execution_count": 1,
   "metadata": {},
   "outputs": [
    {
     "name": "stdout",
     "output_type": "stream",
     "text": [
      "\u001b[?1034h"
     ]
    },
    {
     "data": {
      "image/png": "[encoded data removed]",
      "text/plain": [
       "<IPython.core.display.Image object>"
      ]
     },
     "metadata": {},
     "output_type": "display_data"
    }
   ],
   "source": [
    "TGraph *gr = new TGraph();\n",
    "\n",
    "fstream file;\n",
    "file.open(\"data2.txt\",ios::in);\n",
    "\n",
    "//Reading the data from the graph\n",
    "while(1){\n",
    "    double x, y;\n",
    "    file >> x >> y;\n",
    "    gr->SetPoint(gr->GetN(), x, y); //The SetPoint function can be used to plot the point, use GetN() to get the size of the graph\n",
    "    if(file.eof()){\n",
    "        break;\n",
    "    }\n",
    "}\n",
    "\n",
    "file.close();\n",
    "\n",
    "gr->SetMarkerStyle(3);\n",
    "gr->SetMarkerSize(1);\n",
    "gr->SetLineWidth(1);\n",
    "gr->SetLineColor(kRed);\n",
    "gr->GetXaxis()->SetTitle(\"X Axis\");\n",
    "gr->GetYaxis()->SetTitle(\"Y Axis\");\n",
    "TCanvas *c1 = new TCanvas();\n",
    "gr->Draw(\"ACP\"); //We need to put A for all points, L for it to be a straight line between \n",
    "//data points and * as markers for points, use P to set custom marker \n",
    "//We can also use P to show no markers and C for a smooth curve between data points\n",
    "c1->Draw();"
   ]
  }
 ],
 "metadata": {
  "kernelspec": {
   "display_name": "ROOT C++",
   "language": "c++",
   "name": "root"
  },
  "language_info": {
   "codemirror_mode": "text/x-c++src",
   "file_extension": ".C",
   "mimetype": " text/x-c++src",
   "name": "c++"
  }
 },
 "nbformat": 4,
 "nbformat_minor": 2
}
