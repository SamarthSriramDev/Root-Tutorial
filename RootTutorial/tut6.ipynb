{
 "cells": [
  {
   "cell_type": "code",
   "execution_count": 1,
   "metadata": {},
   "outputs": [
    {
     "name": "stdout",
     "output_type": "stream",
     "text": [
      "\u001b[?1034h"
     ]
    },
    {
     "data": {
      "image/png": "[encoded data removed]",
      "text/plain": [
       "<IPython.core.display.Image object>"
      ]
     },
     "metadata": {},
     "output_type": "display_data"
    }
   ],
   "source": [
    "TH1F *hist = new TH1F(\"hist\",\"Histogram\",100,0,10);\n",
    "\n",
    "TRandom2 *randomGen = new TRandom2(3); //This is to generate a random number\n",
    "\n",
    "fstream file;\n",
    "\n",
    "file.open(\"data.txt\", ios::out); //ios::out is used to read data out to a file\n",
    "\n",
    "for(int i = 0; i < 1000; i++){\n",
    "    double r = randomGen->Gaus(5,1); // Gaus(mean, standard deviation)\n",
    "    file << r << endl;\n",
    "}\n",
    "\n",
    "file.close();\n",
    "\n",
    "//We use fstream to read from a file\n",
    "\n",
    "file.open(\"data.txt\",ios::in); //the name of the file and ios::in refers to reading\n",
    "\n",
    "double value;\n",
    "\n",
    "while(1){\n",
    "    file >> value; //these corresspond to the values that we are reading\n",
    "    hist->Fill(value);\n",
    "    if(file.eof()){\n",
    "        break;\n",
    "    }\n",
    "}\n",
    "\n",
    "file.close();\n",
    "\n",
    "hist->GetXaxis()->SetTitle(\"Distribution\");\n",
    "hist->GetYaxis()->SetTitle(\"Entries\");\n",
    "hist->SetMarkerStyle(1);\n",
    "hist->SetLineColor(kBlue);\n",
    "hist->SetLineWidth(2);\n",
    "hist->SetMarkerSize(1);\n",
    "//hist->GetXaxis()->SetRangeUser(0,10);\n",
    "\n",
    "TCanvas *c1 = new TCanvas();\n",
    "    \n",
    "hist->Draw();\n",
    "\n",
    "c1->Draw();\n"
   ]
  },
  {
   "cell_type": "code",
   "execution_count": null,
   "metadata": {},
   "outputs": [],
   "source": []
  }
 ],
 "metadata": {
  "kernelspec": {
   "display_name": "ROOT C++",
   "language": "c++",
   "name": "root"
  },
  "language_info": {
   "codemirror_mode": "text/x-c++src",
   "file_extension": ".C",
   "mimetype": " text/x-c++src",
   "name": "c++"
  }
 },
 "nbformat": 4,
 "nbformat_minor": 2
}
